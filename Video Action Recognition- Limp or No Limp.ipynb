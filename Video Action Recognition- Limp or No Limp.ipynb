{
 "cells": [
  {
   "cell_type": "markdown",
   "metadata": {},
   "source": [
    "# Action Recognition Limp or No Limp"
   ]
  },
  {
   "cell_type": "markdown",
   "metadata": {
    "id": "RiAMJx7tr5-I"
   },
   "source": [
    "### Import Libraries"
   ]
  },
  {
   "cell_type": "code",
   "execution_count": 1,
   "metadata": {
    "id": "X3AdbpZFCRR0"
   },
   "outputs": [],
   "source": [
    "# Import the required libraries.\n",
    "import os\n",
    "import cv2\n",
    "import math\n",
    "import random\n",
    "import numpy as np\n",
    "from sklearn.utils import shuffle\n",
    "import tensorflow as tf\n",
    "import matplotlib.pyplot as plt\n",
    "%matplotlib inline\n",
    "from sklearn.model_selection import train_test_split\n",
    "from tensorflow.keras.layers import *\n",
    "from tensorflow.keras.models import Sequential\n",
    "from tensorflow.keras.utils import to_categorical\n",
    "from tensorflow.keras.callbacks import EarlyStopping\n",
    "from tensorflow.keras.utils import plot_model"
   ]
  },
  {
   "cell_type": "markdown",
   "metadata": {
    "id": "nxRZOCSfJkpc"
   },
   "source": [
    "### Set Seeds"
   ]
  },
  {
   "cell_type": "code",
   "execution_count": 2,
   "metadata": {
    "id": "9AFIAq0Q0VwG"
   },
   "outputs": [],
   "source": [
    "# Set constants for all processes.\n",
    "seed_constant = 23\n",
    "np.random.seed(seed_constant)\n",
    "random.seed(seed_constant)\n",
    "tf.random.set_seed(seed_constant)"
   ]
  },
  {
   "cell_type": "markdown",
   "metadata": {},
   "source": [
    "## Original Dataset (No Augmentation)\n",
    "# -------------------------------------------------------------------"
   ]
  },
  {
   "cell_type": "markdown",
   "metadata": {},
   "source": [
    "###  Create the Dataset"
   ]
  },
  {
   "cell_type": "code",
   "execution_count": 3,
   "metadata": {},
   "outputs": [],
   "source": [
    "# Specify the height and width to which each video frame will be resized in our dataset.\n",
    "IMAGE_HEIGHT , IMAGE_WIDTH = 80, 80\n",
    "\n",
    "# Specify the number of frames of a video that will be fed to the model as one sequence.\n",
    "SEQUENCE_LENGTH = 60\n",
    "\n",
    "# Specify the directory containing the dataset. \n",
    "DATASET_DIR = \"LimporNot\"\n",
    "\n",
    "# Specify the list containing the names of the classes used for training.\n",
    "CLASSES_LIST = [\"Limp\", \"No_Limp\"]"
   ]
  },
  {
   "cell_type": "markdown",
   "metadata": {},
   "source": [
    "### Create a Function to Extract, Resize & Normalize Frames"
   ]
  },
  {
   "cell_type": "code",
   "execution_count": 4,
   "metadata": {},
   "outputs": [],
   "source": [
    "def frames_extraction(video_path):\n",
    "   \n",
    "    # Declare a list to store video frames.\n",
    "    frames_list = []\n",
    "    \n",
    "    # Read the Video File using the VideoCapture object.\n",
    "    video_reader = cv2.VideoCapture(video_path)\n",
    "\n",
    "    # Get the total number of frames in the video.\n",
    "    video_frames_count = int(video_reader.get(cv2.CAP_PROP_FRAME_COUNT))\n",
    "\n",
    "    # Iterate through the Video Frames.\n",
    "    for frame_counter in range(SEQUENCE_LENGTH):\n",
    "\n",
    "        # Set the current frame position of the video.\n",
    "        video_reader.set(cv2.CAP_PROP_POS_FRAMES, frame_counter)               \n",
    "\n",
    "        # Reading the frame from the video. \n",
    "        success, frame = video_reader.read() \n",
    "\n",
    "        # Check if Video frame is not read successfully.\n",
    "        if not success:\n",
    "            break\n",
    "\n",
    "        # Resize the frame.\n",
    "        resized_frame = cv2.resize(frame, (IMAGE_HEIGHT, IMAGE_WIDTH))\n",
    "        \n",
    "        # Normalize the resized frame.\n",
    "        normalized_frame = resized_frame / 255\n",
    "        \n",
    "        # Append the normalized frame to the frames list.\n",
    "        frames_list.append(normalized_frame)\n",
    "    \n",
    "    # Release the VideoCapture object. \n",
    "    video_reader.release()\n",
    "\n",
    "    # Return the frames list.\n",
    "    return frames_list"
   ]
  },
  {
   "cell_type": "markdown",
   "metadata": {
    "id": "fL6Y0VupxLom"
   },
   "source": [
    "### Create a Function for Dataset Creation"
   ]
  },
  {
   "cell_type": "code",
   "execution_count": 5,
   "metadata": {
    "id": "j6MLp9PpDJ4-"
   },
   "outputs": [],
   "source": [
    "def create_dataset():\n",
    "   \n",
    "    # Declared Empty Lists.\n",
    "    features = []\n",
    "    labels = []\n",
    "    video_files_paths = []\n",
    "    \n",
    "    # Iterating through all the classes in the classes list.\n",
    "    for class_index, class_name in enumerate(CLASSES_LIST):\n",
    "        \n",
    "        # Display the name of the class of the extracted data.\n",
    "        print(f'Extracting Data of Class: {class_name}')\n",
    "        \n",
    "        # Get the list of video files in the class names directory.\n",
    "        files_list = os.listdir(os.path.join(DATASET_DIR, class_name))\n",
    "        \n",
    "        # Iterate through all the files in the files list.\n",
    "        for file_name in files_list:\n",
    "            \n",
    "            # Get the complete video path.\n",
    "            video_file_path = os.path.join(DATASET_DIR, class_name, file_name)\n",
    "\n",
    "            # Extract the frames of the video file.\n",
    "            frames = frames_extraction(video_file_path)\n",
    "\n",
    "            # Check if the extracted frames are equal to the SEQUENCE_LENGTH.            \n",
    "            if len(frames) == SEQUENCE_LENGTH:\n",
    "\n",
    "                # Append the data to their repective lists.\n",
    "                features.append(frames)\n",
    "                labels.append(class_index)\n",
    "                video_files_paths.append(video_file_path)\n",
    "\n",
    "    # Converting the list to numpy arrays.\n",
    "    features = np.asarray(features)\n",
    "    labels = np.array(labels)  \n",
    "    \n",
    "    # Return the frames, class index, and video file path.\n",
    "    return features, labels, video_files_paths"
   ]
  },
  {
   "cell_type": "markdown",
   "metadata": {},
   "source": [
    "### Extract the Data"
   ]
  },
  {
   "cell_type": "code",
   "execution_count": 6,
   "metadata": {},
   "outputs": [
    {
     "name": "stdout",
     "output_type": "stream",
     "text": [
      "Extracting Data of Class: Limp\n",
      "Extracting Data of Class: No_Limp\n"
     ]
    }
   ],
   "source": [
    "# Create the dataset.\n",
    "features, labels, video_files_paths = create_dataset()"
   ]
  },
  {
   "cell_type": "markdown",
   "metadata": {},
   "source": [
    "### Convert Labels to One-Hot Encoded Vectors"
   ]
  },
  {
   "cell_type": "code",
   "execution_count": 7,
   "metadata": {},
   "outputs": [],
   "source": [
    "# Converting labels into one-hot-encoded vectors.\n",
    "one_hot_encoded_labels = to_categorical(labels)"
   ]
  },
  {
   "cell_type": "markdown",
   "metadata": {},
   "source": [
    "### Split the Data into Train and Test Set"
   ]
  },
  {
   "cell_type": "code",
   "execution_count": 8,
   "metadata": {},
   "outputs": [],
   "source": [
    "# Split the data into train and test set.\n",
    "features_train, features_test, labels_train, labels_test = train_test_split(features, one_hot_encoded_labels,\n",
    "                                                                            test_size = 0.2, shuffle = True,\n",
    "                                                                            stratify = one_hot_encoded_labels,\n",
    "                                                                            random_state = seed_constant)"
   ]
  },
  {
   "cell_type": "markdown",
   "metadata": {},
   "source": [
    "### Construct the LRCN Model"
   ]
  },
  {
   "cell_type": "code",
   "execution_count": 9,
   "metadata": {},
   "outputs": [],
   "source": [
    "def create_LRCN_model():\n",
    "    \n",
    "    # Using a Sequential model for model construction.\n",
    "    model = Sequential()\n",
    "    \n",
    "    # Define the Model Architecture.\n",
    "        \n",
    "    model.add(TimeDistributed(Conv2D(16, (3, 3), padding='same',activation = 'relu'),\n",
    "                              input_shape = (SEQUENCE_LENGTH, IMAGE_HEIGHT, IMAGE_WIDTH, 3)))\n",
    "    \n",
    "    model.add(TimeDistributed(MaxPooling2D((4, 4)))) \n",
    "    model.add(TimeDistributed(Dropout(0.35)))\n",
    "    \n",
    "    model.add(TimeDistributed(Conv2D(32, (3, 3), padding='same',activation = 'relu')))\n",
    "    model.add(TimeDistributed(MaxPooling2D((4, 4))))\n",
    "    model.add(TimeDistributed(Dropout(0.35)))    \n",
    "                                      \n",
    "    model.add(TimeDistributed(Flatten()))\n",
    "                                      \n",
    "    model.add(LSTM(32))\n",
    "    model.add(Dense(2, activation='sigmoid'))                                 \n",
    "    \n",
    "    # Display the models summary.\n",
    "    model.summary()\n",
    "    \n",
    "    # Return the constructed LRCN model.\n",
    "    return model"
   ]
  },
  {
   "cell_type": "code",
   "execution_count": 10,
   "metadata": {},
   "outputs": [
    {
     "name": "stdout",
     "output_type": "stream",
     "text": [
      "Model: \"sequential\"\n",
      "_________________________________________________________________\n",
      " Layer (type)                Output Shape              Param #   \n",
      "=================================================================\n",
      " time_distributed (TimeDistr  (None, 60, 80, 80, 16)   448       \n",
      " ibuted)                                                         \n",
      "                                                                 \n",
      " time_distributed_1 (TimeDis  (None, 60, 20, 20, 16)   0         \n",
      " tributed)                                                       \n",
      "                                                                 \n",
      " time_distributed_2 (TimeDis  (None, 60, 20, 20, 16)   0         \n",
      " tributed)                                                       \n",
      "                                                                 \n",
      " time_distributed_3 (TimeDis  (None, 60, 20, 20, 32)   4640      \n",
      " tributed)                                                       \n",
      "                                                                 \n",
      " time_distributed_4 (TimeDis  (None, 60, 5, 5, 32)     0         \n",
      " tributed)                                                       \n",
      "                                                                 \n",
      " time_distributed_5 (TimeDis  (None, 60, 5, 5, 32)     0         \n",
      " tributed)                                                       \n",
      "                                                                 \n",
      " time_distributed_6 (TimeDis  (None, 60, 800)          0         \n",
      " tributed)                                                       \n",
      "                                                                 \n",
      " lstm (LSTM)                 (None, 32)                106624    \n",
      "                                                                 \n",
      " dense (Dense)               (None, 2)                 66        \n",
      "                                                                 \n",
      "=================================================================\n",
      "Total params: 111,778\n",
      "Trainable params: 111,778\n",
      "Non-trainable params: 0\n",
      "_________________________________________________________________\n"
     ]
    }
   ],
   "source": [
    "# Construct the required LRCN model.\n",
    "LRCN_model = create_LRCN_model()"
   ]
  },
  {
   "cell_type": "markdown",
   "metadata": {},
   "source": [
    "### Compile & Train the Model"
   ]
  },
  {
   "cell_type": "code",
   "execution_count": 11,
   "metadata": {},
   "outputs": [
    {
     "name": "stdout",
     "output_type": "stream",
     "text": [
      "Epoch 1/50\n",
      "8/8 [==============================] - 7s 541ms/step - loss: 0.7266 - accuracy: 0.5938 - val_loss: 0.6982 - val_accuracy: 0.5556\n",
      "Epoch 2/50\n",
      "8/8 [==============================] - 3s 400ms/step - loss: 0.6725 - accuracy: 0.5938 - val_loss: 0.6942 - val_accuracy: 0.5556\n",
      "Epoch 3/50\n",
      "8/8 [==============================] - 3s 424ms/step - loss: 0.6688 - accuracy: 0.5938 - val_loss: 0.6958 - val_accuracy: 0.5556\n",
      "Epoch 4/50\n",
      "8/8 [==============================] - 3s 381ms/step - loss: 0.6665 - accuracy: 0.5938 - val_loss: 0.6985 - val_accuracy: 0.5556\n",
      "Epoch 5/50\n",
      "8/8 [==============================] - 3s 406ms/step - loss: 0.6578 - accuracy: 0.5938 - val_loss: 0.7072 - val_accuracy: 0.5556\n",
      "Epoch 6/50\n",
      "8/8 [==============================] - 3s 371ms/step - loss: 0.6382 - accuracy: 0.5938 - val_loss: 0.7034 - val_accuracy: 0.5556\n",
      "Epoch 7/50\n",
      "8/8 [==============================] - 3s 361ms/step - loss: 0.6500 - accuracy: 0.5938 - val_loss: 0.7026 - val_accuracy: 0.5556\n",
      "Epoch 8/50\n",
      "8/8 [==============================] - 3s 385ms/step - loss: 0.6335 - accuracy: 0.6250 - val_loss: 0.7098 - val_accuracy: 0.5556\n",
      "Epoch 9/50\n",
      "8/8 [==============================] - 3s 358ms/step - loss: 0.6310 - accuracy: 0.5625 - val_loss: 0.7614 - val_accuracy: 0.5556\n",
      "Epoch 10/50\n",
      "8/8 [==============================] - 3s 400ms/step - loss: 0.6144 - accuracy: 0.5938 - val_loss: 0.7409 - val_accuracy: 0.5556\n",
      "Epoch 11/50\n",
      "8/8 [==============================] - 3s 340ms/step - loss: 0.5758 - accuracy: 0.7188 - val_loss: 0.7366 - val_accuracy: 0.5556\n",
      "Epoch 12/50\n",
      "8/8 [==============================] - 3s 329ms/step - loss: 0.5557 - accuracy: 0.6875 - val_loss: 0.7811 - val_accuracy: 0.5556\n",
      "Epoch 13/50\n",
      "8/8 [==============================] - 3s 323ms/step - loss: 0.5887 - accuracy: 0.6875 - val_loss: 0.6920 - val_accuracy: 0.4444\n",
      "Epoch 14/50\n",
      "8/8 [==============================] - 2s 316ms/step - loss: 0.5899 - accuracy: 0.6875 - val_loss: 0.7104 - val_accuracy: 0.4444\n",
      "Epoch 15/50\n",
      "8/8 [==============================] - 3s 331ms/step - loss: 0.6136 - accuracy: 0.6250 - val_loss: 0.7121 - val_accuracy: 0.4444\n",
      "Epoch 16/50\n",
      "8/8 [==============================] - 3s 333ms/step - loss: 0.5705 - accuracy: 0.7188 - val_loss: 0.7613 - val_accuracy: 0.5556\n",
      "Epoch 17/50\n",
      "8/8 [==============================] - 3s 341ms/step - loss: 0.5116 - accuracy: 0.7500 - val_loss: 0.7925 - val_accuracy: 0.4444\n",
      "Epoch 18/50\n",
      "8/8 [==============================] - 3s 340ms/step - loss: 0.4887 - accuracy: 0.7188 - val_loss: 0.6956 - val_accuracy: 0.4444\n",
      "Epoch 19/50\n",
      "8/8 [==============================] - 3s 324ms/step - loss: 0.4425 - accuracy: 0.7812 - val_loss: 0.6619 - val_accuracy: 0.6667\n",
      "Epoch 20/50\n",
      "8/8 [==============================] - 3s 326ms/step - loss: 0.4645 - accuracy: 0.6875 - val_loss: 0.6117 - val_accuracy: 0.6667\n",
      "Epoch 21/50\n",
      "8/8 [==============================] - 2s 317ms/step - loss: 0.4075 - accuracy: 0.8438 - val_loss: 0.7191 - val_accuracy: 0.5556\n",
      "Epoch 22/50\n",
      "8/8 [==============================] - 3s 318ms/step - loss: 0.2782 - accuracy: 0.8750 - val_loss: 0.6826 - val_accuracy: 0.7778\n",
      "Epoch 23/50\n",
      "8/8 [==============================] - 3s 322ms/step - loss: 0.7571 - accuracy: 0.7500 - val_loss: 1.2889 - val_accuracy: 0.5556\n",
      "Epoch 24/50\n",
      "8/8 [==============================] - 3s 319ms/step - loss: 0.5736 - accuracy: 0.7188 - val_loss: 0.6182 - val_accuracy: 0.6667\n",
      "Epoch 25/50\n",
      "8/8 [==============================] - 3s 324ms/step - loss: 0.5887 - accuracy: 0.6562 - val_loss: 0.7143 - val_accuracy: 0.4444\n",
      "Epoch 26/50\n",
      "8/8 [==============================] - 2s 315ms/step - loss: 0.4976 - accuracy: 0.7812 - val_loss: 0.7246 - val_accuracy: 0.5556\n",
      "Epoch 27/50\n",
      "8/8 [==============================] - 2s 315ms/step - loss: 0.4887 - accuracy: 0.8750 - val_loss: 0.6912 - val_accuracy: 0.5556\n",
      "Epoch 28/50\n",
      "8/8 [==============================] - 2s 314ms/step - loss: 0.4260 - accuracy: 0.9062 - val_loss: 0.7912 - val_accuracy: 0.5556\n",
      "Epoch 29/50\n",
      "8/8 [==============================] - 2s 313ms/step - loss: 0.3120 - accuracy: 0.9062 - val_loss: 0.5815 - val_accuracy: 0.7778\n",
      "Epoch 30/50\n",
      "8/8 [==============================] - 2s 314ms/step - loss: 0.2812 - accuracy: 0.9062 - val_loss: 0.6276 - val_accuracy: 0.7778\n",
      "Epoch 31/50\n",
      "8/8 [==============================] - 3s 330ms/step - loss: 0.2580 - accuracy: 0.9062 - val_loss: 0.5527 - val_accuracy: 0.8889\n",
      "Epoch 32/50\n",
      "8/8 [==============================] - 3s 331ms/step - loss: 0.1949 - accuracy: 0.9688 - val_loss: 0.7789 - val_accuracy: 0.6667\n",
      "Epoch 33/50\n",
      "8/8 [==============================] - 3s 346ms/step - loss: 0.2597 - accuracy: 0.9062 - val_loss: 0.6731 - val_accuracy: 0.7778\n",
      "Epoch 34/50\n",
      "8/8 [==============================] - 3s 350ms/step - loss: 0.3059 - accuracy: 0.8438 - val_loss: 0.6812 - val_accuracy: 0.6667\n",
      "Epoch 35/50\n",
      "8/8 [==============================] - 3s 329ms/step - loss: 0.4225 - accuracy: 0.7812 - val_loss: 0.8428 - val_accuracy: 0.6667\n",
      "Epoch 36/50\n",
      "8/8 [==============================] - 3s 328ms/step - loss: 0.2692 - accuracy: 0.9688 - val_loss: 0.8705 - val_accuracy: 0.6667\n",
      "Epoch 37/50\n",
      "8/8 [==============================] - 3s 332ms/step - loss: 0.3248 - accuracy: 0.8125 - val_loss: 0.8050 - val_accuracy: 0.7778\n",
      "Epoch 38/50\n",
      "8/8 [==============================] - 3s 332ms/step - loss: 0.2470 - accuracy: 0.9062 - val_loss: 0.9431 - val_accuracy: 0.6667\n",
      "Epoch 39/50\n",
      "8/8 [==============================] - 3s 334ms/step - loss: 0.2246 - accuracy: 0.9062 - val_loss: 0.6564 - val_accuracy: 0.7778\n",
      "Epoch 40/50\n",
      "8/8 [==============================] - 3s 329ms/step - loss: 0.2581 - accuracy: 0.8750 - val_loss: 0.7340 - val_accuracy: 0.7778\n",
      "Epoch 41/50\n",
      "8/8 [==============================] - 3s 334ms/step - loss: 0.2423 - accuracy: 0.9062 - val_loss: 0.7838 - val_accuracy: 0.6667\n",
      "Epoch 42/50\n",
      "8/8 [==============================] - 3s 332ms/step - loss: 0.2287 - accuracy: 0.9062 - val_loss: 0.7905 - val_accuracy: 0.7778\n",
      "Epoch 43/50\n",
      "8/8 [==============================] - 2s 308ms/step - loss: 0.1539 - accuracy: 0.9688 - val_loss: 0.8399 - val_accuracy: 0.6667\n",
      "Epoch 44/50\n",
      "8/8 [==============================] - 2s 312ms/step - loss: 0.1206 - accuracy: 0.9688 - val_loss: 0.8604 - val_accuracy: 0.6667\n",
      "Epoch 45/50\n",
      "8/8 [==============================] - 2s 313ms/step - loss: 0.0808 - accuracy: 0.9688 - val_loss: 0.7070 - val_accuracy: 0.7778\n",
      "Epoch 46/50\n",
      "8/8 [==============================] - 2s 317ms/step - loss: 0.0564 - accuracy: 1.0000 - val_loss: 0.6825 - val_accuracy: 0.8889\n",
      "Epoch 47/50\n",
      "8/8 [==============================] - 3s 320ms/step - loss: 0.0430 - accuracy: 1.0000 - val_loss: 0.6441 - val_accuracy: 0.8889\n",
      "Epoch 48/50\n",
      "8/8 [==============================] - 3s 317ms/step - loss: 0.0345 - accuracy: 1.0000 - val_loss: 0.6295 - val_accuracy: 0.8889\n",
      "Epoch 49/50\n",
      "8/8 [==============================] - 2s 314ms/step - loss: 0.0306 - accuracy: 1.0000 - val_loss: 0.6230 - val_accuracy: 0.8889\n",
      "Epoch 50/50\n",
      "8/8 [==============================] - 3s 335ms/step - loss: 0.0269 - accuracy: 1.0000 - val_loss: 0.5945 - val_accuracy: 0.8889\n"
     ]
    }
   ],
   "source": [
    "# Create early stopping callback.\n",
    "early_stopping_callback = EarlyStopping(monitor = 'val_loss', patience = 20, mode = 'min', restore_best_weights = True)\n",
    " \n",
    "# Compile the model.\n",
    "LRCN_model.compile(loss = 'binary_crossentropy', optimizer = 'Adam', metrics = [\"accuracy\"])\n",
    "\n",
    "# Train the model.\n",
    "LRCN_model_training_history = LRCN_model.fit(x = features_train, y = labels_train, epochs = 50,\n",
    "                                             shuffle = True, validation_split = 0.2, batch_size = 4,\n",
    "                                             callbacks = [early_stopping_callback])"
   ]
  },
  {
   "cell_type": "markdown",
   "metadata": {},
   "source": [
    "### Evaluate the Trained Model"
   ]
  },
  {
   "cell_type": "code",
   "execution_count": 12,
   "metadata": {},
   "outputs": [
    {
     "name": "stdout",
     "output_type": "stream",
     "text": [
      "1/1 [==============================] - 0s 301ms/step - loss: 0.6272 - accuracy: 0.8182\n"
     ]
    }
   ],
   "source": [
    "# Evaluate the trained model.\n",
    "model_evaluation_history = LRCN_model.evaluate(features_test, labels_test)"
   ]
  },
  {
   "cell_type": "markdown",
   "metadata": {},
   "source": [
    "### Plot Model’s Loss & Accuracy Curves"
   ]
  },
  {
   "cell_type": "code",
   "execution_count": 13,
   "metadata": {},
   "outputs": [],
   "source": [
    "def plot_metric(model_training_history, metric_name_1, metric_name_2, plot_name):\n",
    "        \n",
    "    # Get metric values using metric names as identifiers.\n",
    "    metric_value_1 = model_training_history.history[metric_name_1]\n",
    "    metric_value_2 = model_training_history.history[metric_name_2]\n",
    "    \n",
    "    # Construct a range object for the x-axis of the graph.\n",
    "    epochs = range(len(metric_value_1))\n",
    "\n",
    "    # Plot the Graph.\n",
    "    plt.plot(epochs, metric_value_1, 'blue', label = metric_name_1)\n",
    "    plt.plot(epochs, metric_value_2, 'red', label = metric_name_2)\n",
    "\n",
    "    # Add title to the plot.\n",
    "    plt.title(str(plot_name))\n",
    "\n",
    "    # Add legend to the plot.\n",
    "    plt.legend()"
   ]
  },
  {
   "cell_type": "code",
   "execution_count": 14,
   "metadata": {},
   "outputs": [
    {
     "data": {
      "image/png": "[encoded data removed]",
      "text/plain": [
       "<Figure size 640x480 with 1 Axes>"
      ]
     },
     "metadata": {},
     "output_type": "display_data"
    }
   ],
   "source": [
    "# Visualize the training and validation loss metrices.\n",
    "plot_metric(LRCN_model_training_history, 'loss', 'val_loss', 'Total Loss vs Total Validation Loss')"
   ]
  },
  {
   "cell_type": "code",
   "execution_count": 15,
   "metadata": {},
   "outputs": [
    {
     "data": {
      "image/png": "[encoded data removed]",
      "text/plain": [
       "<Figure size 640x480 with 1 Axes>"
      ]
     },
     "metadata": {},
     "output_type": "display_data"
    }
   ],
   "source": [
    "# Visualize the training and validation accuracy metrices.\n",
    "plot_metric(LRCN_model_training_history, 'accuracy', 'val_accuracy', 'Total Accuracy vs Total Validation Accuracy')"
   ]
  },
  {
   "cell_type": "markdown",
   "metadata": {},
   "source": [
    "# ============================================================"
   ]
  },
  {
   "cell_type": "markdown",
   "metadata": {},
   "source": [
    "## Dataset with Augmented Video Files\n",
    "# ----------------------------------------------------------------------"
   ]
  },
  {
   "cell_type": "markdown",
   "metadata": {
    "id": "Mxsl74v8Ud2i"
   },
   "source": [
    "###  Create Training Set"
   ]
  },
  {
   "cell_type": "code",
   "execution_count": 16,
   "metadata": {
    "id": "gb4Fv7Ag-kwb"
   },
   "outputs": [],
   "source": [
    "# Specify the height and width to resize frame.\n",
    "IMAGE_HEIGHT , IMAGE_WIDTH = 80, 80\n",
    "\n",
    "# Specify the number of frames used as one sequence.\n",
    "SEQUENCE_LENGTH = 60\n",
    "\n",
    "# Specify the directory containing the dataset. \n",
    "DATASET_DIR = \"LimporNottrain\"\n",
    "\n",
    "# Specify the list containing the names of the classes used for training.\n",
    "CLASSES_LIST = [\"Limp\", \"No_Limp\"]"
   ]
  },
  {
   "cell_type": "markdown",
   "metadata": {
    "id": "3jNu1QTX0G0q"
   },
   "source": [
    "### Extract the Data"
   ]
  },
  {
   "cell_type": "code",
   "execution_count": 17,
   "metadata": {
    "colab": {
     "base_uri": "https://localhost:8080/"
    },
    "id": "ckAYgSriJN_R",
    "outputId": "c4cd44ea-f745-43ed-8a6a-cdad724b5569"
   },
   "outputs": [
    {
     "name": "stdout",
     "output_type": "stream",
     "text": [
      "Extracting Data of Class: Limp\n",
      "Extracting Data of Class: No_Limp\n"
     ]
    }
   ],
   "source": [
    "# Create the dataset.\n",
    "features, labels, video_files_paths = create_dataset()"
   ]
  },
  {
   "cell_type": "markdown",
   "metadata": {
    "id": "goRGrc8_0Usb"
   },
   "source": [
    "### Convert Labels to One-Hot Encoded Vectors"
   ]
  },
  {
   "cell_type": "code",
   "execution_count": 18,
   "metadata": {
    "id": "KfcpuV6_Bd_T"
   },
   "outputs": [],
   "source": [
    "# Converting labels to one-hot-encoded vectors.\n",
    "one_hot_encoded_labels = to_categorical(labels)"
   ]
  },
  {
   "cell_type": "markdown",
   "metadata": {},
   "source": [
    "### Shuffle"
   ]
  },
  {
   "cell_type": "code",
   "execution_count": 19,
   "metadata": {},
   "outputs": [],
   "source": [
    "# Shuffle the training set.\n",
    "features, one_hot_encoded_labels = shuffle(features, one_hot_encoded_labels)"
   ]
  },
  {
   "cell_type": "code",
   "execution_count": 20,
   "metadata": {},
   "outputs": [],
   "source": [
    "# Create train features and labels.\n",
    "features_train = features\n",
    "labels_train = one_hot_encoded_labels"
   ]
  },
  {
   "cell_type": "markdown",
   "metadata": {},
   "source": [
    "## Create Validation Set"
   ]
  },
  {
   "cell_type": "code",
   "execution_count": 21,
   "metadata": {},
   "outputs": [],
   "source": [
    "# Specify the height and width to resize frames.\n",
    "IMAGE_HEIGHT , IMAGE_WIDTH = 80, 80\n",
    "\n",
    "# Specify the number of frames to use as one sequence.\n",
    "SEQUENCE_LENGTH = 60\n",
    "\n",
    "# Specify the directory. \n",
    "DATASET_DIR = \"LimporNotval\"\n",
    "\n",
    "# Specify the list containing the names of the classes.\n",
    "CLASSES_LIST = [\"Limp\", \"No_Limp\"]"
   ]
  },
  {
   "cell_type": "code",
   "execution_count": 22,
   "metadata": {},
   "outputs": [
    {
     "name": "stdout",
     "output_type": "stream",
     "text": [
      "Extracting Data of Class: Limp\n",
      "Extracting Data of Class: No_Limp\n"
     ]
    }
   ],
   "source": [
    "# Create the dataset.\n",
    "features, labels, video_files_paths = create_dataset()"
   ]
  },
  {
   "cell_type": "code",
   "execution_count": 23,
   "metadata": {},
   "outputs": [],
   "source": [
    "# Convert labels into one-hot-encoded vectors.\n",
    "one_hot_encoded_labels = to_categorical(labels)"
   ]
  },
  {
   "cell_type": "code",
   "execution_count": 24,
   "metadata": {},
   "outputs": [],
   "source": [
    "# Create validation features and labels.\n",
    "features_val = features\n",
    "labels_val = one_hot_encoded_labels"
   ]
  },
  {
   "cell_type": "markdown",
   "metadata": {},
   "source": [
    "## Create Test Set"
   ]
  },
  {
   "cell_type": "code",
   "execution_count": 25,
   "metadata": {},
   "outputs": [],
   "source": [
    "# Specify the height and width to resize frames.\n",
    "IMAGE_HEIGHT , IMAGE_WIDTH = 80, 80\n",
    "\n",
    "# Specify the number of frames to use as one sequence.\n",
    "SEQUENCE_LENGTH = 60\n",
    "\n",
    "# Specify the directory. \n",
    "DATASET_DIR = \"LimporNottest\"\n",
    "\n",
    "# Specify the list containing the names of the classes. \n",
    "CLASSES_LIST = [\"Limp\", \"No_Limp\"]"
   ]
  },
  {
   "cell_type": "code",
   "execution_count": 26,
   "metadata": {},
   "outputs": [
    {
     "name": "stdout",
     "output_type": "stream",
     "text": [
      "Extracting Data of Class: Limp\n",
      "Extracting Data of Class: No_Limp\n"
     ]
    }
   ],
   "source": [
    "# Create the dataset.\n",
    "features, labels, video_files_paths = create_dataset()"
   ]
  },
  {
   "cell_type": "code",
   "execution_count": 27,
   "metadata": {},
   "outputs": [],
   "source": [
    "# Convert labels into one-hot-encoded vectors.\n",
    "one_hot_encoded_labels = to_categorical(labels)"
   ]
  },
  {
   "cell_type": "code",
   "execution_count": 28,
   "metadata": {},
   "outputs": [],
   "source": [
    "# Create test features and labels.\n",
    "features_test = features\n",
    "labels_test = one_hot_encoded_labels"
   ]
  },
  {
   "cell_type": "markdown",
   "metadata": {
    "id": "pyKaiYrQ4iM6"
   },
   "source": [
    "### Create the Second LRCN Model"
   ]
  },
  {
   "cell_type": "code",
   "execution_count": 29,
   "metadata": {
    "colab": {
     "base_uri": "https://localhost:8080/"
    },
    "id": "ZJjC2VA2JkqD",
    "outputId": "986da870-0d0c-4469-ffca-d538635f75e9"
   },
   "outputs": [
    {
     "name": "stdout",
     "output_type": "stream",
     "text": [
      "Model: \"sequential_1\"\n",
      "_________________________________________________________________\n",
      " Layer (type)                Output Shape              Param #   \n",
      "=================================================================\n",
      " time_distributed_7 (TimeDis  (None, 60, 80, 80, 16)   448       \n",
      " tributed)                                                       \n",
      "                                                                 \n",
      " time_distributed_8 (TimeDis  (None, 60, 20, 20, 16)   0         \n",
      " tributed)                                                       \n",
      "                                                                 \n",
      " time_distributed_9 (TimeDis  (None, 60, 20, 20, 16)   0         \n",
      " tributed)                                                       \n",
      "                                                                 \n",
      " time_distributed_10 (TimeDi  (None, 60, 20, 20, 32)   4640      \n",
      " stributed)                                                      \n",
      "                                                                 \n",
      " time_distributed_11 (TimeDi  (None, 60, 5, 5, 32)     0         \n",
      " stributed)                                                      \n",
      "                                                                 \n",
      " time_distributed_12 (TimeDi  (None, 60, 5, 5, 32)     0         \n",
      " stributed)                                                      \n",
      "                                                                 \n",
      " time_distributed_13 (TimeDi  (None, 60, 800)          0         \n",
      " stributed)                                                      \n",
      "                                                                 \n",
      " lstm_1 (LSTM)               (None, 32)                106624    \n",
      "                                                                 \n",
      " dense_1 (Dense)             (None, 2)                 66        \n",
      "                                                                 \n",
      "=================================================================\n",
      "Total params: 111,778\n",
      "Trainable params: 111,778\n",
      "Non-trainable params: 0\n",
      "_________________________________________________________________\n"
     ]
    }
   ],
   "source": [
    "# Construct the LRCN model.\n",
    "LRCN_model2 = create_LRCN_model()"
   ]
  },
  {
   "cell_type": "markdown",
   "metadata": {
    "id": "wsDrzxCDA5lX"
   },
   "source": [
    "### Compile & Train the Model"
   ]
  },
  {
   "cell_type": "code",
   "execution_count": 30,
   "metadata": {
    "colab": {
     "base_uri": "https://localhost:8080/"
    },
    "id": "mtrQGXc8A5lY",
    "outputId": "a11b7a40-9198-4875-e531-a8900e96c636"
   },
   "outputs": [
    {
     "name": "stdout",
     "output_type": "stream",
     "text": [
      "Epoch 1/50\n",
      "86/86 [==============================] - 29s 325ms/step - loss: 0.6946 - accuracy: 0.5673 - val_loss: 0.6998 - val_accuracy: 0.4848\n",
      "Epoch 2/50\n",
      "86/86 [==============================] - 27s 319ms/step - loss: 0.6616 - accuracy: 0.6140 - val_loss: 0.7093 - val_accuracy: 0.5152\n",
      "Epoch 3/50\n",
      "86/86 [==============================] - 27s 311ms/step - loss: 0.6541 - accuracy: 0.5789 - val_loss: 0.7293 - val_accuracy: 0.4949\n",
      "Epoch 4/50\n",
      "86/86 [==============================] - 27s 318ms/step - loss: 0.6196 - accuracy: 0.6550 - val_loss: 0.6987 - val_accuracy: 0.4848\n",
      "Epoch 5/50\n",
      "86/86 [==============================] - 26s 300ms/step - loss: 0.6090 - accuracy: 0.6550 - val_loss: 0.6951 - val_accuracy: 0.4646\n",
      "Epoch 6/50\n",
      "86/86 [==============================] - 26s 299ms/step - loss: 0.5978 - accuracy: 0.7105 - val_loss: 0.6576 - val_accuracy: 0.6162\n",
      "Epoch 7/50\n",
      "86/86 [==============================] - 25s 294ms/step - loss: 0.5888 - accuracy: 0.6579 - val_loss: 0.6907 - val_accuracy: 0.5556\n",
      "Epoch 8/50\n",
      "86/86 [==============================] - 25s 294ms/step - loss: 0.5287 - accuracy: 0.7310 - val_loss: 0.7316 - val_accuracy: 0.5152\n",
      "Epoch 9/50\n",
      "86/86 [==============================] - 25s 289ms/step - loss: 0.4746 - accuracy: 0.7661 - val_loss: 0.8212 - val_accuracy: 0.5455\n",
      "Epoch 10/50\n",
      "86/86 [==============================] - 26s 298ms/step - loss: 0.4522 - accuracy: 0.7836 - val_loss: 0.7790 - val_accuracy: 0.5253\n",
      "Epoch 11/50\n",
      "86/86 [==============================] - 26s 300ms/step - loss: 0.4626 - accuracy: 0.7632 - val_loss: 0.7542 - val_accuracy: 0.5253\n",
      "Epoch 12/50\n",
      "86/86 [==============================] - 26s 300ms/step - loss: 0.4341 - accuracy: 0.7836 - val_loss: 0.7926 - val_accuracy: 0.5556\n",
      "Epoch 13/50\n",
      "86/86 [==============================] - 25s 296ms/step - loss: 0.3717 - accuracy: 0.8275 - val_loss: 0.8087 - val_accuracy: 0.5556\n",
      "Epoch 14/50\n",
      "86/86 [==============================] - 27s 311ms/step - loss: 0.4026 - accuracy: 0.8187 - val_loss: 0.8005 - val_accuracy: 0.5859\n",
      "Epoch 15/50\n",
      "86/86 [==============================] - 25s 288ms/step - loss: 0.3486 - accuracy: 0.8333 - val_loss: 0.7610 - val_accuracy: 0.6364\n",
      "Epoch 16/50\n",
      "86/86 [==============================] - 24s 283ms/step - loss: 0.3142 - accuracy: 0.8772 - val_loss: 0.8003 - val_accuracy: 0.5960\n",
      "Epoch 17/50\n",
      "86/86 [==============================] - 25s 287ms/step - loss: 0.3032 - accuracy: 0.8743 - val_loss: 1.0031 - val_accuracy: 0.5152\n",
      "Epoch 18/50\n",
      "86/86 [==============================] - 24s 284ms/step - loss: 0.2923 - accuracy: 0.8830 - val_loss: 0.8746 - val_accuracy: 0.5556\n",
      "Epoch 19/50\n",
      "86/86 [==============================] - 24s 283ms/step - loss: 0.2656 - accuracy: 0.8947 - val_loss: 0.9326 - val_accuracy: 0.6061\n",
      "Epoch 20/50\n",
      "86/86 [==============================] - 24s 282ms/step - loss: 0.2142 - accuracy: 0.9269 - val_loss: 0.9608 - val_accuracy: 0.5859\n",
      "Epoch 21/50\n",
      "86/86 [==============================] - 24s 283ms/step - loss: 0.2066 - accuracy: 0.9181 - val_loss: 1.0451 - val_accuracy: 0.5152\n",
      "Epoch 22/50\n",
      "86/86 [==============================] - 24s 282ms/step - loss: 0.1928 - accuracy: 0.9269 - val_loss: 1.0717 - val_accuracy: 0.5859\n",
      "Epoch 23/50\n",
      "86/86 [==============================] - 24s 283ms/step - loss: 0.2251 - accuracy: 0.9240 - val_loss: 0.9592 - val_accuracy: 0.5455\n",
      "Epoch 24/50\n",
      "86/86 [==============================] - 24s 285ms/step - loss: 0.1917 - accuracy: 0.9327 - val_loss: 1.0231 - val_accuracy: 0.5354\n",
      "Epoch 25/50\n",
      "86/86 [==============================] - 24s 283ms/step - loss: 0.1474 - accuracy: 0.9503 - val_loss: 1.5072 - val_accuracy: 0.5253\n",
      "Epoch 26/50\n",
      "86/86 [==============================] - 24s 283ms/step - loss: 0.2080 - accuracy: 0.9152 - val_loss: 1.1174 - val_accuracy: 0.5051\n"
     ]
    }
   ],
   "source": [
    "# Create early stopping callback.\n",
    "early_stopping_callback = EarlyStopping(monitor = 'val_loss', patience = 20, mode = 'min', restore_best_weights = True)\n",
    " \n",
    "# Compile the model and specify loss function, optimizer and metrics to the model.\n",
    "LRCN_model2.compile(loss = 'binary_crossentropy', optimizer = 'Adam', metrics = [\"accuracy\"])\n",
    "\n",
    "# Start training the model.\n",
    "LRCN_model2_training_history = LRCN_model2.fit(x = features_train, y = labels_train, epochs = 50,\n",
    "                                             shuffle = True, validation_data= (features_val, labels_val), \n",
    "                                             batch_size = 4, callbacks = [early_stopping_callback])"
   ]
  },
  {
   "cell_type": "markdown",
   "metadata": {
    "id": "tMepQus5A5la"
   },
   "source": [
    "### Evaluate the Trained Model"
   ]
  },
  {
   "cell_type": "code",
   "execution_count": 31,
   "metadata": {
    "colab": {
     "base_uri": "https://localhost:8080/"
    },
    "id": "ZwSYdhEFA5lb",
    "outputId": "fc0d73b3-128a-4ed1-d04a-f66768d90488"
   },
   "outputs": [
    {
     "name": "stdout",
     "output_type": "stream",
     "text": [
      "4/4 [==============================] - 2s 561ms/step - loss: 0.7738 - accuracy: 0.5514\n"
     ]
    }
   ],
   "source": [
    "# Evaluate the trained model.\n",
    "model_evaluation_history = LRCN_model2.evaluate(features_test, labels_test)"
   ]
  },
  {
   "cell_type": "markdown",
   "metadata": {
    "id": "bDs61KA-A5lc"
   },
   "source": [
    "### Plot Model’s Loss & Accuracy Curves"
   ]
  },
  {
   "cell_type": "code",
   "execution_count": 33,
   "metadata": {
    "colab": {
     "base_uri": "https://localhost:8080/",
     "height": 281
    },
    "id": "nvAgcD_FA5ld",
    "outputId": "2eab2173-a761-42b1-fee0-d35fe718f8d5"
   },
   "outputs": [
    {
     "data": {
      "image/png": "[encoded data removed]",
      "text/plain": [
       "<Figure size 640x480 with 1 Axes>"
      ]
     },
     "metadata": {},
     "output_type": "display_data"
    }
   ],
   "source": [
    "# Visualize the training and validation loss metrices.\n",
    "plot_metric(LRCN_model2_training_history, 'loss', 'val_loss', 'Total Loss vs Total Validation Loss')"
   ]
  },
  {
   "cell_type": "code",
   "execution_count": 34,
   "metadata": {
    "colab": {
     "base_uri": "https://localhost:8080/",
     "height": 281
    },
    "id": "YZHXzXJZA5le",
    "outputId": "dd0070ae-505d-45a2-dea6-76fedaba457c"
   },
   "outputs": [
    {
     "data": {
      "image/png": "[encoded data removed]",
      "text/plain": [
       "<Figure size 640x480 with 1 Axes>"
      ]
     },
     "metadata": {},
     "output_type": "display_data"
    }
   ],
   "source": [
    "# Visualize the training and validation accuracy metrices.\n",
    "plot_metric(LRCN_model2_training_history, 'accuracy', 'val_accuracy', 'Total Accuracy vs Total Validation Accuracy')"
   ]
  },
  {
   "cell_type": "markdown",
   "metadata": {},
   "source": [
    "# ---------------------------------------------------------------------------------"
   ]
  },
  {
   "cell_type": "code",
   "execution_count": null,
   "metadata": {},
   "outputs": [],
   "source": []
  },
  {
   "cell_type": "code",
   "execution_count": null,
   "metadata": {},
   "outputs": [],
   "source": []
  }
 ],
 "metadata": {
  "accelerator": "TPU",
  "colab": {
   "collapsed_sections": [],
   "name": "Human Action Recogntion using CNN + LSTM.ipynb",
   "provenance": []
  },
  "kernelspec": {
   "display_name": "Python 3 (ipykernel)",
   "language": "python",
   "name": "python3"
  },
  "language_info": {
   "codemirror_mode": {
    "name": "ipython",
    "version": 3
   },
   "file_extension": ".py",
   "mimetype": "text/x-python",
   "name": "python",
   "nbconvert_exporter": "python",
   "pygments_lexer": "ipython3",
   "version": "3.8.12"
  }
 },
 "nbformat": 4,
 "nbformat_minor": 1
}
